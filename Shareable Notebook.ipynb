{
 "cells": [
  {
   "attachments": {
    "whatsapp-logo-11-5.png": {
     "image/png": "[encoded data removed]"
    }
   },
   "cell_type": "markdown",
   "id": "ff1aefba",
   "metadata": {},
   "source": [
    "![whatsapp-logo-11-5.png](attachment:whatsapp-logo-11-5.png)\n",
    "\n",
    "# WhatsApp Analysis\n",
    "\n",
    "### About\n",
    "Hello, I am Santiago Codaro! Below you will find code to analyze any Whatsapp group.\n",
    "\n",
    "This notebook is divided in the following sections:<br>\n",
    "1. Library Imports and file upload<br>\n",
    "2. DataFrame Creation<br>\n",
    "3. DF Sampling and Cleaning<br>\n",
    "4. Adding more columns<br>\n",
    "5. Analysis<br>\n",
    "&nbsp;&nbsp;&nbsp;&nbsp;&nbsp;&nbsp;a. Pivot Tables<br>\n",
    "&nbsp;&nbsp;&nbsp;&nbsp;&nbsp;&nbsp;b. Hour Day Heatmap<br>\n",
    "&nbsp;&nbsp;&nbsp;&nbsp;&nbsp;&nbsp;c. Messages per year<br>\n",
    "&nbsp;&nbsp;&nbsp;&nbsp;&nbsp;&nbsp;d. Messages per Sender<br>\n",
    "&nbsp;&nbsp;&nbsp;&nbsp;&nbsp;&nbsp;e. Word Cloud<br>\n",
    "&nbsp;&nbsp;&nbsp;&nbsp;&nbsp;&nbsp;f. Bar Chart Race Animation"
   ]
  },
  {
   "cell_type": "markdown",
   "id": "b3731b68",
   "metadata": {},
   "source": [
    "# 1. Library imports and file upload <a name='1' />"
   ]
  },
  {
   "cell_type": "code",
   "execution_count": 31,
   "id": "ab584a7c",
   "metadata": {},
   "outputs": [],
   "source": [
    "import pandas as pd\n",
    "import re\n",
    "import numpy as np\n",
    "import datetime as dt\n",
    "import matplotlib.pyplot as plt\n",
    "from PIL import Image\n",
    "import unidecode\n",
    "import seaborn as sns\n"
   ]
  },
  {
   "cell_type": "markdown",
   "id": "1d63056e",
   "metadata": {},
   "source": [
    "#### 💻 Download the Whatsapp group\n",
    "\n",
    "The only thing outside this code you have to do is to donwload your whatsapp group.\n",
    "\n",
    "To do so, open whatsapp --> Open the desired group --> go to Settings and scroll down --> \"Export Chat\" (without media) --> Send it to your computer and save it."
   ]
  },
  {
   "cell_type": "code",
   "execution_count": 71,
   "id": "fc71766b",
   "metadata": {
    "scrolled": true
   },
   "outputs": [
    {
     "data": {
      "text/plain": [
       "'[28/05/2017 20:15:32] \\u200eMale D. created group “Grupo” [28/05/2017 20:15:32] \\u200eMale D. added you [28/05/2017 20:15:58] Male D.: El nombre del grupo puede modificarse pero es un temonnn 😍 [28/05/2017 20:16:09] Male D.: Me parecia q no podiamos no tener grupo [28/05/2017 20:20:45] Nico: muy de acuerdo en'"
      ]
     },
     "execution_count": 71,
     "metadata": {},
     "output_type": "execute_result"
    }
   ],
   "source": [
    "file_location = 'chat_example.txt' #in my terminal I have already specified the cwd \n",
    "                                   #so I didn't have to specify the whole path. reference: https://www.youtube.com/watch?v=ZyhVh-qRZPA&list=PL-osiE80TeTsWmV9i9c58mdDCSskIFdDS&index=2\n",
    "with open(file_location) as f:\n",
    "  data = f.read()\n",
    "  data = ' '.join(data.split('\\n'))\n",
    "\n",
    "data[0:300] #preview the data"
   ]
  },
  {
   "cell_type": "markdown",
   "id": "2d633ea0",
   "metadata": {},
   "source": [
    "# DataFrame creation <a name='2' />"
   ]
  },
  {
   "cell_type": "code",
   "execution_count": 72,
   "id": "0f9e8c2d",
   "metadata": {},
   "outputs": [
    {
     "data": {
      "text/plain": [
       "['[28/05/2017 20:15:32]',\n",
       " '[28/05/2017 20:15:32]',\n",
       " '[28/05/2017 20:15:58]',\n",
       " '[28/05/2017 20:16:09]',\n",
       " '[28/05/2017 20:20:45]']"
      ]
     },
     "execution_count": 72,
     "metadata": {},
     "output_type": "execute_result"
    }
   ],
   "source": [
    "#timestamps are the delimeters as the are enclosed in brackets and always have betweem 17 and 19 characters inside.\n",
    "#Create a list of all the timestamps\n",
    "time_pattern = \"\\[[0-9]+/[0-9]+/[0-9]+\\s[0-9]+:[0-9]+:[0-9]+\\]\"\n",
    "time = re.findall(time_pattern, data) #extract the timestamps from the string variable 'data'\n",
    "time[0:5]"
   ]
  },
  {
   "cell_type": "code",
   "execution_count": 64,
   "id": "646a5778",
   "metadata": {},
   "outputs": [],
   "source": [
    "#Create a list using the tiemstamps as delimeter, keeping the sender + the msj as each item of the list\n",
    "#this list is going to work as auxiliar for the next cell.\n",
    "\n",
    "sender_and_msj = re.split(time_pattern, data)[1:]"
   ]
  },
  {
   "cell_type": "code",
   "execution_count": 75,
   "id": "a22f26d8",
   "metadata": {},
   "outputs": [
    {
     "data": {
      "text/plain": [
       "['Notification', 'Notification', ' Male D.', ' Male D.', ' Nico']"
      ]
     },
     "execution_count": 75,
     "metadata": {},
     "output_type": "execute_result"
    }
   ],
   "source": [
    "# separate sender and msj from the previous auxiliar list.\n",
    "\n",
    "sender = []\n",
    "msj = []\n",
    "\n",
    "for i in sender_and_msj:\n",
    "    if \":\" in i:\n",
    "        sender_index = i.find(\":\") #esto te devuelve la posición en la que esta el ':', por ejemplo, 10.\n",
    "        sender.append(  i[0:sender_index]  )\n",
    "        msj.append(i[sender_index+1:])\n",
    "    else:\n",
    "        sender.append(\"Notification\")\n",
    "        msj.append(i)\n",
    "        \n",
    "sender[0:5] #preview"
   ]
  },
  {
   "cell_type": "code",
   "execution_count": 76,
   "id": "9917cc86",
   "metadata": {},
   "outputs": [
    {
     "data": {
      "text/html": [
       "<div>\n",
       "<style scoped>\n",
       "    .dataframe tbody tr th:only-of-type {\n",
       "        vertical-align: middle;\n",
       "    }\n",
       "\n",
       "    .dataframe tbody tr th {\n",
       "        vertical-align: top;\n",
       "    }\n",
       "\n",
       "    .dataframe thead th {\n",
       "        text-align: right;\n",
       "    }\n",
       "</style>\n",
       "<table border=\"1\" class=\"dataframe\">\n",
       "  <thead>\n",
       "    <tr style=\"text-align: right;\">\n",
       "      <th></th>\n",
       "      <th>Timestamp</th>\n",
       "      <th>Sender</th>\n",
       "      <th>Message</th>\n",
       "    </tr>\n",
       "  </thead>\n",
       "  <tbody>\n",
       "    <tr>\n",
       "      <th>0</th>\n",
       "      <td>[28/05/2017 20:15:32]</td>\n",
       "      <td>Notification</td>\n",
       "      <td>‎Male D. created group “Grupo”</td>\n",
       "    </tr>\n",
       "    <tr>\n",
       "      <th>1</th>\n",
       "      <td>[28/05/2017 20:15:32]</td>\n",
       "      <td>Notification</td>\n",
       "      <td>‎Male D. added you</td>\n",
       "    </tr>\n",
       "    <tr>\n",
       "      <th>2</th>\n",
       "      <td>[28/05/2017 20:15:58]</td>\n",
       "      <td>Male D.</td>\n",
       "      <td>El nombre del grupo puede modificarse pero es...</td>\n",
       "    </tr>\n",
       "    <tr>\n",
       "      <th>3</th>\n",
       "      <td>[28/05/2017 20:16:09]</td>\n",
       "      <td>Male D.</td>\n",
       "      <td>Me parecia q no podiamos no tener grupo</td>\n",
       "    </tr>\n",
       "    <tr>\n",
       "      <th>4</th>\n",
       "      <td>[28/05/2017 20:20:45]</td>\n",
       "      <td>Nico</td>\n",
       "      <td>muy de acuerdo en grupo y nombre 👍🏽👍🏽👍🏽👍🏽</td>\n",
       "    </tr>\n",
       "  </tbody>\n",
       "</table>\n",
       "</div>"
      ],
      "text/plain": [
       "               Timestamp        Sender  \\\n",
       "0  [28/05/2017 20:15:32]  Notification   \n",
       "1  [28/05/2017 20:15:32]  Notification   \n",
       "2  [28/05/2017 20:15:58]       Male D.   \n",
       "3  [28/05/2017 20:16:09]       Male D.   \n",
       "4  [28/05/2017 20:20:45]          Nico   \n",
       "\n",
       "                                             Message  \n",
       "0                    ‎Male D. created group “Grupo”   \n",
       "1                                ‎Male D. added you   \n",
       "2   El nombre del grupo puede modificarse pero es...  \n",
       "3           Me parecia q no podiamos no tener grupo   \n",
       "4         muy de acuerdo en grupo y nombre 👍🏽👍🏽👍🏽👍🏽   "
      ]
     },
     "execution_count": 76,
     "metadata": {},
     "output_type": "execute_result"
    }
   ],
   "source": [
    "#now we have our 3 lists: time, sender and msj. Let's merge them into a data frame.\n",
    "df = pd.DataFrame({'Timestamp':time, 'Sender':sender, 'Message':msj})\n",
    "df[0:5]"
   ]
  },
  {
   "cell_type": "markdown",
   "id": "371075b0",
   "metadata": {},
   "source": [
    "# DF sampling and cleaning <a name='3' />"
   ]
  },
  {
   "cell_type": "code",
   "execution_count": 38,
   "id": "4fac768a",
   "metadata": {},
   "outputs": [
    {
     "data": {
      "text/plain": [
       " Barbi          5241\n",
       " Male D.        4632\n",
       " Male M.        3781\n",
       " Mar            3035\n",
       " Nico           2924\n",
       " Santiago       1032\n",
       " Naza            159\n",
       "Notification      18\n",
       " Grupo             1\n",
       "Name: Sender, dtype: int64"
      ]
     },
     "execution_count": 38,
     "metadata": {},
     "output_type": "execute_result"
    }
   ],
   "source": [
    "#Lets see the unique senders\n",
    "df['Sender'].value_counts()"
   ]
  },
  {
   "cell_type": "code",
   "execution_count": 39,
   "id": "b662a357",
   "metadata": {},
   "outputs": [
    {
     "data": {
      "text/plain": [
       "0                          ‎Male D. created group “Grupo” \n",
       "1                                      ‎Male D. added you \n",
       "2         El nombre del grupo puede modificarse pero es...\n",
       "3                 Me parecia q no podiamos no tener grupo \n",
       "4               muy de acuerdo en grupo y nombre 👍🏽👍🏽👍🏽👍🏽 \n",
       "                               ...                        \n",
       "20818     Porq muchas clases del profesorado se dan en ...\n",
       "20819                                             VAMOOOO \n",
       "20820     Y estoy inscripta en el prof desde el 2020 pe...\n",
       "20821                                                 Jjj \n",
       "20822                              Cierto q se cursa ahí! \n",
       "Name: Message, Length: 20823, dtype: object"
      ]
     },
     "execution_count": 39,
     "metadata": {},
     "output_type": "execute_result"
    }
   ],
   "source": [
    "df['Message']"
   ]
  },
  {
   "cell_type": "code",
   "execution_count": 40,
   "id": "0b84204e",
   "metadata": {},
   "outputs": [],
   "source": [
    "#Delete mssj from sender \"Grupo\"\n",
    "#reference: https://www.shanelynn.ie/pandas-drop-delete-dataframe-rows-columns/\n",
    "\n",
    "fernet_msj = df['Sender'].str.contains('Grupo')\n",
    "df.drop(index=df[fernet_msj].index, inplace=True)"
   ]
  },
  {
   "cell_type": "code",
   "execution_count": 41,
   "id": "4d0c76b3",
   "metadata": {
    "scrolled": true
   },
   "outputs": [
    {
     "data": {
      "text/plain": [
       "Sender\n",
       " Barbi       5241\n",
       " Male D.     4632\n",
       " Male M.     3781\n",
       " Mar         3035\n",
       " Nico        2924\n",
       " Santiago    1032\n",
       " Naza         159\n",
       "dtype: int64"
      ]
     },
     "execution_count": 41,
     "metadata": {},
     "output_type": "execute_result"
    }
   ],
   "source": [
    "#delete 'Notification' msjs\n",
    "#this cell and the above are two different ways of removing rows\n",
    "\n",
    "exclude_notifications = ~df['Sender'].str.contains('Notification')\n",
    "df = df.loc[exclude_notifications]\n",
    "df.value_counts('Sender')\n",
    "\n",
    "#Now we have a clean Sender column\n"
   ]
  },
  {
   "cell_type": "code",
   "execution_count": 77,
   "id": "9465c415",
   "metadata": {
    "scrolled": false
   },
   "outputs": [
    {
     "data": {
      "text/plain": [
       "Message\n",
       "‎audio omitted           387\n",
       "‎image omitted           365\n",
       "‎image omitted ‎         204\n",
       "‎sticker omitted         203\n",
       "‎sticker omitted ‎        84\n",
       "‎audio omitted ‎          43\n",
       "‎video omitted            23\n",
       "‎GIF omitted              11\n",
       "‎video omitted ‎           9\n",
       "‎Contact card omitted      3\n",
       "dtype: int64"
      ]
     },
     "execution_count": 77,
     "metadata": {},
     "output_type": "execute_result"
    }
   ],
   "source": [
    "# non text media is represented with the labels below\n",
    "df = df.applymap(str.strip) #trim all values in dataframe\n",
    "df[df['Message'].str.contains('omitted')].value_counts('Message')[0:10]"
   ]
  },
  {
   "cell_type": "code",
   "execution_count": 43,
   "id": "e7f4a620",
   "metadata": {},
   "outputs": [
    {
     "data": {
      "text/plain": [
       "array(['image omitted', 'audio omitted', 'GIF omitted', 'video omitted',\n",
       "       'Documento sin título.docx document omitted',\n",
       "       'Proyecto Protocolo.docx document omitted',\n",
       "       'Programa Educacional Eurasquin.pdf • 14 pages document omitted',\n",
       "       'sticker omitted', 'Contact card omitted',\n",
       "       'Hamburgueria product image omitted',\n",
       "       'Vanguard product image omitted', 'Pizzas product image omitted',\n",
       "       'Churrasco product image omitted',\n",
       "       'Lineamientos para la construccion del plan de tesina.doc document omitted',\n",
       "       '371142960-2876.pdf • 41 pages document omitted',\n",
       "       'comprobante_TransferenciaInmediata-20210923134308332.pdf • 1 page document omitted',\n",
       "       'mercadopago_withdraw-17833123832.pdf • 1 page document omitted',\n",
       "       'comprobante_TransferenciaInmediata-20211029115918565.pdf • 1 page document omitted',\n",
       "       'mercadopago_withdraw-19846016873.pdf • 1 page document omitted',\n",
       "       'mercadopago_withdraw-20844722206.pdf • 1 page document omitted'],\n",
       "      dtype=object)"
      ]
     },
     "execution_count": 43,
     "metadata": {},
     "output_type": "execute_result"
    }
   ],
   "source": [
    "#In the cell above, despite displaying unique values, there are still duplicates.\n",
    "#the following code will display the values inside an array with no formatting.\n",
    "#the unicode character '\\u200e was found' so it has to be removed to:\n",
    "\n",
    "df['Message'] = df['Message'].str.replace('\\u200e','',regex=False)\n",
    "df = df.applymap(str.strip)\n",
    "\n",
    "ommitted_filt = df['Message'].str.contains('omitted',regex=False) \n",
    "df.loc[ommitted_filt]['Message'].unique()"
   ]
  },
  {
   "cell_type": "code",
   "execution_count": 44,
   "id": "506a07d3",
   "metadata": {},
   "outputs": [
    {
     "data": {
      "text/plain": [
       "image omitted      569\n",
       "audio omitted      430\n",
       "sticker omitted    287\n",
       "Dale                78\n",
       "Jajajaja            76\n",
       "Name: Message, dtype: int64"
      ]
     },
     "execution_count": 44,
     "metadata": {},
     "output_type": "execute_result"
    }
   ],
   "source": [
    "#now we have a clean 'Message' column:\n",
    "df['Message'].value_counts().head()"
   ]
  },
  {
   "cell_type": "markdown",
   "id": "7c99dba2",
   "metadata": {},
   "source": [
    "# Creating more useful columns <a name='4' />\n",
    "\n",
    "Before analyzing the data, new time columns are going to be created to filter ease the filter\n",
    "of data in the future. Also, a 'Type of Message' column is going to be added to identify if the msg contains text, image, audio, etc."
   ]
  },
  {
   "cell_type": "markdown",
   "id": "1217a98d",
   "metadata": {},
   "source": [
    "#### Convert Timestamps to date type"
   ]
  },
  {
   "cell_type": "code",
   "execution_count": 45,
   "id": "782699d2",
   "metadata": {},
   "outputs": [
    {
     "name": "stdout",
     "output_type": "stream",
     "text": [
      "<class 'pandas.core.frame.DataFrame'>\n",
      "Int64Index: 20804 entries, 2 to 20822\n",
      "Data columns (total 3 columns):\n",
      " #   Column     Non-Null Count  Dtype \n",
      "---  ------     --------------  ----- \n",
      " 0   Timestamp  20804 non-null  object\n",
      " 1   Sender     20804 non-null  object\n",
      " 2   Message    20804 non-null  object\n",
      "dtypes: object(3)\n",
      "memory usage: 650.1+ KB\n"
     ]
    }
   ],
   "source": [
    "df.info()"
   ]
  },
  {
   "cell_type": "code",
   "execution_count": 46,
   "id": "5bf1f88e",
   "metadata": {},
   "outputs": [
    {
     "data": {
      "text/plain": [
       "5341     06/05/2018 02:06:04\n",
       "11380    19/02/2020 04:19:16\n",
       "17991    15/10/2021 15:38:43\n",
       "19104    20/12/2021 23:21:38\n",
       "1186     12/10/2017 03:51:31\n",
       "58       08/06/2017 18:58:03\n",
       "1647     22/11/2017 17:18:44\n",
       "6972     02/08/2018 04:29:56\n",
       "15089    06/02/2021 00:08:48\n",
       "17705    04/10/2021 00:33:53\n",
       "Name: Timestamp, dtype: object"
      ]
     },
     "execution_count": 46,
     "metadata": {},
     "output_type": "execute_result"
    }
   ],
   "source": [
    "#Remove brackets\n",
    "df['Timestamp'].replace('\\[|\\]','',regex=True, inplace=True)\n",
    "df['Timestamp'].sample(10)"
   ]
  },
  {
   "cell_type": "code",
   "execution_count": 47,
   "id": "bc3dc944",
   "metadata": {},
   "outputs": [
    {
     "name": "stdout",
     "output_type": "stream",
     "text": [
      "<class 'pandas.core.frame.DataFrame'>\n",
      "Int64Index: 20804 entries, 2 to 20822\n",
      "Data columns (total 5 columns):\n",
      " #   Column     Non-Null Count  Dtype \n",
      "---  ------     --------------  ----- \n",
      " 0   Timestamp  20804 non-null  object\n",
      " 1   Sender     20804 non-null  object\n",
      " 2   Message    20804 non-null  object\n",
      " 3   Day        20804 non-null  object\n",
      " 4   Time       20804 non-null  object\n",
      "dtypes: object(5)\n",
      "memory usage: 975.2+ KB\n"
     ]
    }
   ],
   "source": [
    "#Add day and time columns\n",
    "date_and_time = df['Timestamp'].str.split(' ',expand=True)\n",
    "df[['Day','Time']] = date_and_time\n",
    "df.info()"
   ]
  },
  {
   "cell_type": "code",
   "execution_count": 48,
   "id": "7a76a388",
   "metadata": {},
   "outputs": [],
   "source": [
    "#Convert date series (currently strings) to date types\n",
    "df['Timestamp'] = pd.to_datetime(df['Timestamp'] , format = '%d/%m/%Y %H:%M:%S')\n",
    "df['Day'] = pd.to_datetime(df['Day'] , format = '%d/%m/%Y')\n",
    "df['Time'] = pd.to_datetime(df['Time'] , format = '%H:%M:%S')\n",
    "\n",
    "# Add more granular date related columns\n",
    "df['Year'] = df['Timestamp'].dt.to_period('Y')\n",
    "df['Month'] = df['Timestamp'].dt.to_period('M')\n",
    "df['Week'] = df['Timestamp'].dt.to_period('W')"
   ]
  },
  {
   "cell_type": "code",
   "execution_count": 79,
   "id": "ef1f5cf4",
   "metadata": {
    "scrolled": true
   },
   "outputs": [
    {
     "data": {
      "text/html": [
       "<div>\n",
       "<style scoped>\n",
       "    .dataframe tbody tr th:only-of-type {\n",
       "        vertical-align: middle;\n",
       "    }\n",
       "\n",
       "    .dataframe tbody tr th {\n",
       "        vertical-align: top;\n",
       "    }\n",
       "\n",
       "    .dataframe thead th {\n",
       "        text-align: right;\n",
       "    }\n",
       "</style>\n",
       "<table border=\"1\" class=\"dataframe\">\n",
       "  <thead>\n",
       "    <tr style=\"text-align: right;\">\n",
       "      <th></th>\n",
       "      <th>Timestamp</th>\n",
       "      <th>Sender</th>\n",
       "      <th>Message</th>\n",
       "    </tr>\n",
       "  </thead>\n",
       "  <tbody>\n",
       "    <tr>\n",
       "      <th>20818</th>\n",
       "      <td>[01/04/2022 16:14:38]</td>\n",
       "      <td>Male D.</td>\n",
       "      <td>Porq muchas clases del profesorado se dan en e...</td>\n",
       "    </tr>\n",
       "    <tr>\n",
       "      <th>20819</th>\n",
       "      <td>[01/04/2022 16:14:42]</td>\n",
       "      <td>Male D.</td>\n",
       "      <td>VAMOOOO</td>\n",
       "    </tr>\n",
       "    <tr>\n",
       "      <th>20820</th>\n",
       "      <td>[01/04/2022 16:15:14]</td>\n",
       "      <td>Male D.</td>\n",
       "      <td>Y estoy inscripta en el prof desde el 2020 per...</td>\n",
       "    </tr>\n",
       "    <tr>\n",
       "      <th>20821</th>\n",
       "      <td>[01/04/2022 16:23:25]</td>\n",
       "      <td>Barbi</td>\n",
       "      <td>Jjj</td>\n",
       "    </tr>\n",
       "    <tr>\n",
       "      <th>20822</th>\n",
       "      <td>[01/04/2022 16:23:35]</td>\n",
       "      <td>Barbi</td>\n",
       "      <td>Cierto q se cursa ahí!</td>\n",
       "    </tr>\n",
       "  </tbody>\n",
       "</table>\n",
       "</div>"
      ],
      "text/plain": [
       "                   Timestamp   Sender  \\\n",
       "20818  [01/04/2022 16:14:38]  Male D.   \n",
       "20819  [01/04/2022 16:14:42]  Male D.   \n",
       "20820  [01/04/2022 16:15:14]  Male D.   \n",
       "20821  [01/04/2022 16:23:25]    Barbi   \n",
       "20822  [01/04/2022 16:23:35]    Barbi   \n",
       "\n",
       "                                                 Message  \n",
       "20818  Porq muchas clases del profesorado se dan en e...  \n",
       "20819                                            VAMOOOO  \n",
       "20820  Y estoy inscripta en el prof desde el 2020 per...  \n",
       "20821                                                Jjj  \n",
       "20822                             Cierto q se cursa ahí!  "
      ]
     },
     "execution_count": 79,
     "metadata": {},
     "output_type": "execute_result"
    }
   ],
   "source": [
    "#preview\n",
    "df[-5:]\n"
   ]
  },
  {
   "cell_type": "markdown",
   "id": "8ba3e1d2",
   "metadata": {},
   "source": [
    "# Analysis <a name='5' />"
   ]
  },
  {
   "cell_type": "markdown",
   "id": "7627c96f",
   "metadata": {},
   "source": [
    "#### Pivot Tables"
   ]
  },
  {
   "cell_type": "code",
   "execution_count": 53,
   "id": "bb9b4225",
   "metadata": {},
   "outputs": [
    {
     "data": {
      "text/html": [
       "<div>\n",
       "<style scoped>\n",
       "    .dataframe tbody tr th:only-of-type {\n",
       "        vertical-align: middle;\n",
       "    }\n",
       "\n",
       "    .dataframe tbody tr th {\n",
       "        vertical-align: top;\n",
       "    }\n",
       "\n",
       "    .dataframe thead th {\n",
       "        text-align: right;\n",
       "    }\n",
       "</style>\n",
       "<table border=\"1\" class=\"dataframe\">\n",
       "  <thead>\n",
       "    <tr style=\"text-align: right;\">\n",
       "      <th>Sender</th>\n",
       "      <th>Barbi</th>\n",
       "      <th>Male D.</th>\n",
       "      <th>Male M.</th>\n",
       "      <th>Mar</th>\n",
       "      <th>Naza</th>\n",
       "      <th>Nico</th>\n",
       "      <th>Santiago</th>\n",
       "      <th>All</th>\n",
       "    </tr>\n",
       "    <tr>\n",
       "      <th>Year</th>\n",
       "      <th></th>\n",
       "      <th></th>\n",
       "      <th></th>\n",
       "      <th></th>\n",
       "      <th></th>\n",
       "      <th></th>\n",
       "      <th></th>\n",
       "      <th></th>\n",
       "    </tr>\n",
       "  </thead>\n",
       "  <tbody>\n",
       "    <tr>\n",
       "      <th>2017</th>\n",
       "      <td>491.0</td>\n",
       "      <td>584.0</td>\n",
       "      <td>449.0</td>\n",
       "      <td>410.0</td>\n",
       "      <td>100.0</td>\n",
       "      <td>313.0</td>\n",
       "      <td>192.0</td>\n",
       "      <td>2539</td>\n",
       "    </tr>\n",
       "    <tr>\n",
       "      <th>2018</th>\n",
       "      <td>1361.0</td>\n",
       "      <td>1594.0</td>\n",
       "      <td>1549.0</td>\n",
       "      <td>960.0</td>\n",
       "      <td>8.0</td>\n",
       "      <td>757.0</td>\n",
       "      <td>279.0</td>\n",
       "      <td>6508</td>\n",
       "    </tr>\n",
       "    <tr>\n",
       "      <th>2019</th>\n",
       "      <td>461.0</td>\n",
       "      <td>436.0</td>\n",
       "      <td>503.0</td>\n",
       "      <td>360.0</td>\n",
       "      <td>10.0</td>\n",
       "      <td>257.0</td>\n",
       "      <td>97.0</td>\n",
       "      <td>2124</td>\n",
       "    </tr>\n",
       "    <tr>\n",
       "      <th>2020</th>\n",
       "      <td>1034.0</td>\n",
       "      <td>717.0</td>\n",
       "      <td>591.0</td>\n",
       "      <td>461.0</td>\n",
       "      <td>35.0</td>\n",
       "      <td>739.0</td>\n",
       "      <td>96.0</td>\n",
       "      <td>3673</td>\n",
       "    </tr>\n",
       "    <tr>\n",
       "      <th>2021</th>\n",
       "      <td>1463.0</td>\n",
       "      <td>998.0</td>\n",
       "      <td>514.0</td>\n",
       "      <td>644.0</td>\n",
       "      <td>6.0</td>\n",
       "      <td>694.0</td>\n",
       "      <td>218.0</td>\n",
       "      <td>4537</td>\n",
       "    </tr>\n",
       "    <tr>\n",
       "      <th>2022</th>\n",
       "      <td>431.0</td>\n",
       "      <td>303.0</td>\n",
       "      <td>175.0</td>\n",
       "      <td>200.0</td>\n",
       "      <td>NaN</td>\n",
       "      <td>164.0</td>\n",
       "      <td>150.0</td>\n",
       "      <td>1423</td>\n",
       "    </tr>\n",
       "    <tr>\n",
       "      <th>All</th>\n",
       "      <td>5241.0</td>\n",
       "      <td>4632.0</td>\n",
       "      <td>3781.0</td>\n",
       "      <td>3035.0</td>\n",
       "      <td>159.0</td>\n",
       "      <td>2924.0</td>\n",
       "      <td>1032.0</td>\n",
       "      <td>20804</td>\n",
       "    </tr>\n",
       "  </tbody>\n",
       "</table>\n",
       "</div>"
      ],
      "text/plain": [
       "Sender   Barbi  Male D.  Male M.     Mar   Naza    Nico  Santiago    All\n",
       "Year                                                                    \n",
       "2017     491.0    584.0    449.0   410.0  100.0   313.0     192.0   2539\n",
       "2018    1361.0   1594.0   1549.0   960.0    8.0   757.0     279.0   6508\n",
       "2019     461.0    436.0    503.0   360.0   10.0   257.0      97.0   2124\n",
       "2020    1034.0    717.0    591.0   461.0   35.0   739.0      96.0   3673\n",
       "2021    1463.0    998.0    514.0   644.0    6.0   694.0     218.0   4537\n",
       "2022     431.0    303.0    175.0   200.0    NaN   164.0     150.0   1423\n",
       "All     5241.0   4632.0   3781.0  3035.0  159.0  2924.0    1032.0  20804"
      ]
     },
     "execution_count": 53,
     "metadata": {},
     "output_type": "execute_result"
    }
   ],
   "source": [
    "#Amount of messages by year and sender\n",
    "\n",
    "table = pd.pivot_table(df,index='Year',columns='Sender', values='Message', aggfunc='count', \n",
    "                       margins=True)\n",
    "\n",
    "table"
   ]
  },
  {
   "cell_type": "code",
   "execution_count": 54,
   "id": "16a6252d",
   "metadata": {},
   "outputs": [
    {
     "data": {
      "text/html": [
       "<div>\n",
       "<style scoped>\n",
       "    .dataframe tbody tr th:only-of-type {\n",
       "        vertical-align: middle;\n",
       "    }\n",
       "\n",
       "    .dataframe tbody tr th {\n",
       "        vertical-align: top;\n",
       "    }\n",
       "\n",
       "    .dataframe thead th {\n",
       "        text-align: right;\n",
       "    }\n",
       "</style>\n",
       "<table border=\"1\" class=\"dataframe\">\n",
       "  <thead>\n",
       "    <tr style=\"text-align: right;\">\n",
       "      <th>Sender</th>\n",
       "      <th>All</th>\n",
       "      <th>Barbi</th>\n",
       "      <th>Male D.</th>\n",
       "      <th>Male M.</th>\n",
       "      <th>Mar</th>\n",
       "      <th>Nico</th>\n",
       "      <th>Santiago</th>\n",
       "      <th>Naza</th>\n",
       "    </tr>\n",
       "    <tr>\n",
       "      <th>Year</th>\n",
       "      <th></th>\n",
       "      <th></th>\n",
       "      <th></th>\n",
       "      <th></th>\n",
       "      <th></th>\n",
       "      <th></th>\n",
       "      <th></th>\n",
       "      <th></th>\n",
       "    </tr>\n",
       "  </thead>\n",
       "  <tbody>\n",
       "    <tr>\n",
       "      <th>2017</th>\n",
       "      <td>12.2%</td>\n",
       "      <td>9.37%</td>\n",
       "      <td>12.61%</td>\n",
       "      <td>11.88%</td>\n",
       "      <td>13.51%</td>\n",
       "      <td>10.7%</td>\n",
       "      <td>18.6%</td>\n",
       "      <td>62.89%</td>\n",
       "    </tr>\n",
       "    <tr>\n",
       "      <th>2018</th>\n",
       "      <td>31.28%</td>\n",
       "      <td>25.97%</td>\n",
       "      <td>34.41%</td>\n",
       "      <td>40.97%</td>\n",
       "      <td>31.63%</td>\n",
       "      <td>25.89%</td>\n",
       "      <td>27.03%</td>\n",
       "      <td>5.03%</td>\n",
       "    </tr>\n",
       "    <tr>\n",
       "      <th>2019</th>\n",
       "      <td>10.21%</td>\n",
       "      <td>8.8%</td>\n",
       "      <td>9.41%</td>\n",
       "      <td>13.3%</td>\n",
       "      <td>11.86%</td>\n",
       "      <td>8.79%</td>\n",
       "      <td>9.4%</td>\n",
       "      <td>6.29%</td>\n",
       "    </tr>\n",
       "    <tr>\n",
       "      <th>2020</th>\n",
       "      <td>17.66%</td>\n",
       "      <td>19.73%</td>\n",
       "      <td>15.48%</td>\n",
       "      <td>15.63%</td>\n",
       "      <td>15.19%</td>\n",
       "      <td>25.27%</td>\n",
       "      <td>9.3%</td>\n",
       "      <td>22.01%</td>\n",
       "    </tr>\n",
       "    <tr>\n",
       "      <th>2021</th>\n",
       "      <td>21.81%</td>\n",
       "      <td>27.91%</td>\n",
       "      <td>21.55%</td>\n",
       "      <td>13.59%</td>\n",
       "      <td>21.22%</td>\n",
       "      <td>23.73%</td>\n",
       "      <td>21.12%</td>\n",
       "      <td>3.77%</td>\n",
       "    </tr>\n",
       "    <tr>\n",
       "      <th>2022</th>\n",
       "      <td>6.84%</td>\n",
       "      <td>8.22%</td>\n",
       "      <td>6.54%</td>\n",
       "      <td>4.63%</td>\n",
       "      <td>6.59%</td>\n",
       "      <td>5.61%</td>\n",
       "      <td>14.53%</td>\n",
       "      <td>0.0%</td>\n",
       "    </tr>\n",
       "  </tbody>\n",
       "</table>\n",
       "</div>"
      ],
      "text/plain": [
       "Sender     All   Barbi Male D. Male M.     Mar    Nico Santiago    Naza\n",
       "Year                                                                   \n",
       "2017     12.2%   9.37%  12.61%  11.88%  13.51%   10.7%    18.6%  62.89%\n",
       "2018    31.28%  25.97%  34.41%  40.97%  31.63%  25.89%   27.03%   5.03%\n",
       "2019    10.21%    8.8%   9.41%   13.3%  11.86%   8.79%     9.4%   6.29%\n",
       "2020    17.66%  19.73%  15.48%  15.63%  15.19%  25.27%     9.3%  22.01%\n",
       "2021    21.81%  27.91%  21.55%  13.59%  21.22%  23.73%   21.12%   3.77%\n",
       "2022     6.84%   8.22%   6.54%   4.63%   6.59%   5.61%   14.53%    0.0%"
      ]
     },
     "execution_count": 54,
     "metadata": {},
     "output_type": "execute_result"
    }
   ],
   "source": [
    "#Pivot with share % of messages by sender (meaning that each columns sums 100%)\n",
    "\n",
    "table3 = pd.crosstab(df.Year,df.Sender,values=df.Message,aggfunc='count',\n",
    "           normalize='columns',margins=True).mul(100).round(2).astype(str).applymap(lambda x: str(x)+\"%\")\n",
    "\n",
    "#create list to sort/order table3 in desc. order\n",
    "list_sender_desc = df['Sender'].value_counts().index.values.tolist()\n",
    "list_sender_desc.insert(0,'All')\n",
    "table3 = table3.reindex(columns=list_sender_desc)\n",
    "\n",
    "table3"
   ]
  },
  {
   "cell_type": "code",
   "execution_count": 55,
   "id": "a39b975c",
   "metadata": {},
   "outputs": [],
   "source": [
    "#Don't pay attention to this pls I am just reindexing the df.\n",
    "df.reset_index(inplace=True)\n",
    "df.drop(labels=['index'], axis=1,inplace=True)\n"
   ]
  },
  {
   "cell_type": "markdown",
   "id": "2f5418c2",
   "metadata": {},
   "source": [
    "## Hour-Day Heatmap\n",
    "\n",
    "It will help visualize the day and the hour with more message traffic."
   ]
  },
  {
   "cell_type": "code",
   "execution_count": 56,
   "id": "35e18b6f",
   "metadata": {},
   "outputs": [],
   "source": [
    "#first I have to create day of the week column and hour od the day column\n",
    "df['Day of Week'] = df['Day'].dt.day_name()\n",
    "df['Hour Bucket'] = df['Timestamp'].dt.hour"
   ]
  },
  {
   "cell_type": "code",
   "execution_count": 57,
   "id": "b1f9fca8",
   "metadata": {},
   "outputs": [
    {
     "data": {
      "image/png": "[encoded data removed]",
      "text/plain": [
       "<Figure size 864x864 with 2 Axes>"
      ]
     },
     "metadata": {},
     "output_type": "display_data"
    }
   ],
   "source": [
    "# Let's create a df that has the days of the week as columns and the hour bucket as rows.\n",
    "time_day_df =  pd.pivot_table(df, index='Hour Bucket', columns='Day of Week', values='Message', aggfunc = 'count')\n",
    "\n",
    "#reorder the columns\n",
    "time_day_df = time_day_df.reindex(columns=['Monday','Tuesday','Wednesday','Thursday','Friday','Saturday','Sunday'])\n",
    "\n",
    "#Heatmap parameters\n",
    "colormap = sns.color_palette(\"Greens\")\n",
    "sns.heatmap(time_day_df,cmap=colormap,linewidths=0 , linecolor='grey')\n",
    "\n",
    "#Config plot\n",
    "plt.title(\"Hour-Day Heatmap\", fontsize=25, fontweight=0, color='green', loc='left', style='italic')\n",
    "plt.show()\n",
    "\n",
    "#plt.savefig('heatmap no grid.png')"
   ]
  },
  {
   "cell_type": "code",
   "execution_count": 80,
   "id": "40bdb0da",
   "metadata": {},
   "outputs": [
    {
     "name": "stderr",
     "output_type": "stream",
     "text": [
      "/var/folders/f0/g1j_qdv5445dsvfg20hql4rm0000gn/T/ipykernel_26331/1075890152.py:4: DeprecationWarning: The default dtype for empty Series will be 'object' instead of 'float64' in a future version. Specify a dtype explicitly to silence this warning.\n",
      "  df['Count Message'] = pd.Series().view('int64')\n"
     ]
    },
    {
     "data": {
      "text/html": [
       "<div>\n",
       "<style scoped>\n",
       "    .dataframe tbody tr th:only-of-type {\n",
       "        vertical-align: middle;\n",
       "    }\n",
       "\n",
       "    .dataframe tbody tr th {\n",
       "        vertical-align: top;\n",
       "    }\n",
       "\n",
       "    .dataframe thead th {\n",
       "        text-align: right;\n",
       "    }\n",
       "</style>\n",
       "<table border=\"1\" class=\"dataframe\">\n",
       "  <thead>\n",
       "    <tr style=\"text-align: right;\">\n",
       "      <th></th>\n",
       "      <th>Timestamp</th>\n",
       "      <th>Sender</th>\n",
       "      <th>Message</th>\n",
       "      <th>Count Message</th>\n",
       "    </tr>\n",
       "  </thead>\n",
       "  <tbody>\n",
       "    <tr>\n",
       "      <th>20818</th>\n",
       "      <td>[01/04/2022 16:14:38]</td>\n",
       "      <td>Male D.</td>\n",
       "      <td>Porq muchas clases del profesorado se dan en e...</td>\n",
       "      <td>0.0</td>\n",
       "    </tr>\n",
       "    <tr>\n",
       "      <th>20819</th>\n",
       "      <td>[01/04/2022 16:14:42]</td>\n",
       "      <td>Male D.</td>\n",
       "      <td>VAMOOOO</td>\n",
       "      <td>0.0</td>\n",
       "    </tr>\n",
       "    <tr>\n",
       "      <th>20820</th>\n",
       "      <td>[01/04/2022 16:15:14]</td>\n",
       "      <td>Male D.</td>\n",
       "      <td>Y estoy inscripta en el prof desde el 2020 per...</td>\n",
       "      <td>0.0</td>\n",
       "    </tr>\n",
       "    <tr>\n",
       "      <th>20821</th>\n",
       "      <td>[01/04/2022 16:23:25]</td>\n",
       "      <td>Barbi</td>\n",
       "      <td>Jjj</td>\n",
       "      <td>1.0</td>\n",
       "    </tr>\n",
       "    <tr>\n",
       "      <th>20822</th>\n",
       "      <td>[01/04/2022 16:23:35]</td>\n",
       "      <td>Barbi</td>\n",
       "      <td>Cierto q se cursa ahí!</td>\n",
       "      <td>0.0</td>\n",
       "    </tr>\n",
       "  </tbody>\n",
       "</table>\n",
       "</div>"
      ],
      "text/plain": [
       "                   Timestamp   Sender  \\\n",
       "20818  [01/04/2022 16:14:38]  Male D.   \n",
       "20819  [01/04/2022 16:14:42]  Male D.   \n",
       "20820  [01/04/2022 16:15:14]  Male D.   \n",
       "20821  [01/04/2022 16:23:25]    Barbi   \n",
       "20822  [01/04/2022 16:23:35]    Barbi   \n",
       "\n",
       "                                                 Message  Count Message  \n",
       "20818  Porq muchas clases del profesorado se dan en e...            0.0  \n",
       "20819                                            VAMOOOO            0.0  \n",
       "20820  Y estoy inscripta en el prof desde el 2020 per...            0.0  \n",
       "20821                                                Jjj            1.0  \n",
       "20822                             Cierto q se cursa ahí!            0.0  "
      ]
     },
     "execution_count": 80,
     "metadata": {},
     "output_type": "execute_result"
    }
   ],
   "source": [
    "# Create a column to only count the first message,\n",
    "    #this way, we are avoiding over counting people that sends many messages one after another.\n",
    "    \n",
    "df['Count Message'] = pd.Series().view('int64')\n",
    "\n",
    "for i in range(1,len(df['Sender'])):\n",
    "    df.at[0,'Count Message'] = 1\n",
    "    val = df['Sender'].iloc[i]\n",
    "    if df['Sender'].iloc[i] == df['Sender'].iloc[i-1] :\n",
    "        df.at[i,'Count Message'] = 0\n",
    "    else:\n",
    "        df.at[i,'Count Message'] = 1\n",
    "        \n",
    "df[-5:]"
   ]
  },
  {
   "cell_type": "code",
   "execution_count": 59,
   "id": "7067133d",
   "metadata": {},
   "outputs": [],
   "source": [
    "#Create an auxiliar list to sort values in the next cell\n",
    "\n",
    "test1 = pd.pivot_table(df,index='Sender', values='Count Message', aggfunc='sum', \n",
    "                       margins=True) #.div(len(df['Sender'].index)).mul(100).round(2).astype(str).applymap(lambda x: str(x)+\"%\")\n",
    "test1.sort_values('Count Message',ascending=False, inplace=True)\n",
    "test1.drop(labels=['All'], axis=0,inplace=True)\n",
    "\n",
    "desc_sort_sum_count_message = test1.index.values.tolist()\n",
    "\n"
   ]
  },
  {
   "cell_type": "code",
   "execution_count": 60,
   "id": "545bd4cd",
   "metadata": {
    "scrolled": true
   },
   "outputs": [
    {
     "data": {
      "image/png": "[encoded data removed]",
      "text/plain": [
       "<Figure size 864x864 with 1 Axes>"
      ]
     },
     "metadata": {},
     "output_type": "display_data"
    }
   ],
   "source": [
    "#Bar chart with messages by sender\n",
    "\n",
    "sns.set(rc = {'figure.figsize':(12,12)})\n",
    "#clrs = ['grey' if (x < max(test1['Count Message'])) else 'red' for x in test1['Count Message'] ] way of setting diferent colors\n",
    "# who v/s fare barplot\n",
    "ax = sns.barplot(x = 'Count Message',\n",
    "            y = 'Sender',\n",
    "            ci=None, \n",
    "            estimator=sum,\n",
    "            order = desc_sort_sum_count_message,\n",
    "            #palette='crest_r',\n",
    "            color = '#4885ed',\n",
    "            data = df)\n",
    "\n",
    "for i in ax.containers:\n",
    "    ax.bar_label(i,)\n",
    "\n",
    "#plt.xticks(rotation=45)\n",
    "plt.title(\"Messages by Group Member\", fontsize=25, fontweight=0, color='#4885ed', loc='left', style='italic')\n",
    "# Show the plot\n",
    "#plt.show()\n",
    "plt.savefig('sender.png')"
   ]
  },
  {
   "cell_type": "code",
   "execution_count": 65,
   "id": "88c9e85d",
   "metadata": {
    "scrolled": true
   },
   "outputs": [
    {
     "data": {
      "image/png": "[encoded data removed]",
      "text/plain": [
       "<Figure size 1152x288 with 1 Axes>"
      ]
     },
     "metadata": {},
     "output_type": "display_data"
    }
   ],
   "source": [
    "#Verical Bar chart with messages by year\n",
    "\n",
    "\n",
    "sns.set(rc = {'figure.figsize':(16,4)})\n",
    "#clrs = ['grey' if (x < max(test1['Count Message'])) else 'red' for x in test1['Count Message'] ] way of setting diferent colors\n",
    "# who v/s fare barplot\n",
    "sns.barplot(y = 'Count Message',\n",
    "            x = 'Year',\n",
    "            ci=None, \n",
    "            estimator=sum,\n",
    "            #palette='crest_r',\n",
    "            color = '#f4c20d',\n",
    "            data = df)\n",
    "plt.title(\"Messages by Year\", fontsize=25, fontweight=0, color='#f4c20d', loc='left', style='italic')\n",
    "plt.show()\n",
    "#plt.savefig('year.png')"
   ]
  },
  {
   "cell_type": "markdown",
   "id": "6d761aa3",
   "metadata": {},
   "source": [
    "## Wordcloud\n",
    "\n",
    "In this section a wordcloud of the column \"messages\" is going to be returned."
   ]
  },
  {
   "cell_type": "code",
   "execution_count": null,
   "id": "a9256d64",
   "metadata": {},
   "outputs": [],
   "source": [
    "#import required dependencies\n",
    "#ref: https://empresas.blogthinkbig.com/pln-con-python-tokens-stop-words-y-ngrams/\n",
    "\n",
    "import nltk\n",
    "nltk.download()\n",
    "from nltk.tokenize import word_tokenize, sent_tokenize\n",
    "from nltk.corpus import stopwords"
   ]
  },
  {
   "cell_type": "code",
   "execution_count": 66,
   "id": "9dc89eaf",
   "metadata": {},
   "outputs": [],
   "source": [
    "from wordcloud import WordCloud, STOPWORDS, ImageColorGenerator"
   ]
  },
  {
   "cell_type": "code",
   "execution_count": 67,
   "id": "0872ee2a",
   "metadata": {},
   "outputs": [],
   "source": [
    "#list of words to exclude from the wordcloud\n",
    "exclude_words_list = [  'santi','mar' ,'nico','male','fausto','luky','mati','omitida','omitido','imagen','enzo','fau','ringo','wirchi','marto','jere','jero',\n",
    "                      'tuvie','miglu','pota','turco','juampi','gianni','miglu',\n",
    "                      'leon','guzzo','antes','achi','quieren','sisi','fui','entre','x','debe','hablando','hizo',\n",
    "                      'pueden', 'seria','falta','esta','d',\n",
    "                      'vez','jajajaj','decir','padrino','felipe','topor','topa','pipo',\n",
    "                      'jueves','anda','nivel','ademas','cosas','iba','da','queres','quedo','sii','cada','tmb',\n",
    "                      'mira', 'podes','dije','mucha','otra','jajajajajaja','desp','somos','pone','auto','hacemos',\n",
    "                      'llevo','tampoco','algun','sacar','lado','yendo','cualquier','arriba','dije','despue','despues',\n",
    "                      'nadie','estamos','this','message','was','deleted','soy','final','cual','listo','entonce',\n",
    "                      'digo','dice','tarde','entiendo','tanto','nunca','vi','manana','obvio','ante','quiere',\n",
    "                      'cuanto','tenia','sin','estamo','tambien','van','hora','tas','veo','viene','jajaj','nose',\n",
    "                      'cosa','ah','dijo','tipo','ayer','siempre',\n",
    "                      'hasta','jajajajaja','sabe','vas','paso','sino','toda','desde','ta','mismo',\n",
    "                      'tener','tienen', 'pasa', 'dia','alguna','gente','sea','dan','estar','pido','mejor','parece',\n",
    "                      'era','re','total','esas','todavia','nono','poner','quienes',\n",
    "                      'sos','van''jajajajaja','uno','quiero','aca','estaba','10','dos','que',\n",
    "                      'de','la','a','no','mi','yo','comigo','tu','con','vos','ti','el','ella','ello','usted',\n",
    "                      'nosotros','nostras','ellas','ellos','ustedes','lo','la','le','se','nos','me','te','se',\n",
    "                      'suyo','y','omitted','en','es','un','si','para','image','por','los','una',\n",
    "                      'pero','las','hay','como','audio','del','al','ya','o','mas','estoy','eso','muy',\n",
    "                      'hoy','todo','toy','porque','tiene','igual','q','va','voy','todos','jajaja','sticker',\n",
    "                      'bien','mal','tengo','son','alguno','video','este','ahora','nada','creo','bueno','dale',\n",
    "                      'jaja','Frequency','hace','che','2','ese','esto','ver','algo','más','3','ir','fue',\n",
    "                      'cuando','mierda','gif','puede','esa','vamos','jajajaja','ahi','ser','1','ni','puedo',\n",
    "                      'asi','claro','hacer','alguien','eh','mañana','donde','quien','tenes','5','estan',\n",
    "                      'qué','solo','estas','mucho','casa','4','otro','les','su']"
   ]
  },
  {
   "cell_type": "code",
   "execution_count": 69,
   "id": "c25b5f77",
   "metadata": {},
   "outputs": [],
   "source": [
    "#create a string variable that merges all the records from the Message column. It will feed the Word Cloud\n",
    "\n",
    "df[\"Message Aux\"] = df['Message'].copy().str.lower().str.replace('[^\\w\\s]','',regex=True).apply(lambda x: unidecode.unidecode(x)).copy() #remove punctuation\n",
    "aux1 = df[\"Message Aux\"].copy().str.split(expand=True).stack()\n",
    "message_string = ' '.join(aux1)       "
   ]
  },
  {
   "cell_type": "code",
   "execution_count": 70,
   "id": "852237a7",
   "metadata": {},
   "outputs": [
    {
     "data": {
      "image/png": "[encoded data removed]",
      "text/plain": [
       "<Figure size 1152x288 with 1 Axes>"
      ]
     },
     "metadata": {},
     "output_type": "display_data"
    }
   ],
   "source": [
    "#ref: https://www.youtube.com/watch?v=eHxWshJpoRk\n",
    "\n",
    "#appearance\n",
    "wc = WordCloud(background_color=\"white\", stopwords=exclude_words_list, height=2000, width=3000,\n",
    "               normalize_plurals = False, collocations = False, max_words = 150 )\n",
    "wc.generate(message_string)\n",
    "\n",
    "#plotting\n",
    "plt.imshow(wc,interpolation = 'bilinear')\n",
    "#plt.title( ('@'+'MDBp'), fontsize=40, pad=22, color='Black')\n",
    "plt.axis('off')\n",
    "plt.grid(False)\n",
    "plt.show()\n"
   ]
  },
  {
   "cell_type": "code",
   "execution_count": null,
   "id": "7049eb38",
   "metadata": {},
   "outputs": [],
   "source": [
    "wc.to_file('Wordcloud.png') #in case you want to save it"
   ]
  },
  {
   "cell_type": "code",
   "execution_count": null,
   "id": "4b77f8d3",
   "metadata": {},
   "outputs": [],
   "source": []
  },
  {
   "cell_type": "markdown",
   "id": "4060976f",
   "metadata": {},
   "source": [
    "## Bar Chart Race Animation\n",
    "\n",
    "The tool Flourish was used to create this animation: https://public.flourish.studio/visualisation/9267728/ <br>\n",
    "Please find below the code to create a ready to use template."
   ]
  },
  {
   "cell_type": "code",
   "execution_count": 62,
   "id": "07388a7d",
   "metadata": {},
   "outputs": [
    {
     "data": {
      "text/html": [
       "<div>\n",
       "<style scoped>\n",
       "    .dataframe tbody tr th:only-of-type {\n",
       "        vertical-align: middle;\n",
       "    }\n",
       "\n",
       "    .dataframe tbody tr th {\n",
       "        vertical-align: top;\n",
       "    }\n",
       "\n",
       "    .dataframe thead th {\n",
       "        text-align: right;\n",
       "    }\n",
       "</style>\n",
       "<table border=\"1\" class=\"dataframe\">\n",
       "  <thead>\n",
       "    <tr style=\"text-align: right;\">\n",
       "      <th>Month</th>\n",
       "      <th>2017-05</th>\n",
       "      <th>2017-06</th>\n",
       "      <th>2017-08</th>\n",
       "      <th>2017-09</th>\n",
       "      <th>2017-10</th>\n",
       "      <th>2017-11</th>\n",
       "      <th>2017-12</th>\n",
       "      <th>2018-01</th>\n",
       "      <th>2018-02</th>\n",
       "      <th>2018-03</th>\n",
       "      <th>...</th>\n",
       "      <th>2021-07</th>\n",
       "      <th>2021-08</th>\n",
       "      <th>2021-09</th>\n",
       "      <th>2021-10</th>\n",
       "      <th>2021-11</th>\n",
       "      <th>2021-12</th>\n",
       "      <th>2022-01</th>\n",
       "      <th>2022-02</th>\n",
       "      <th>2022-03</th>\n",
       "      <th>2022-04</th>\n",
       "    </tr>\n",
       "    <tr>\n",
       "      <th>Sender</th>\n",
       "      <th></th>\n",
       "      <th></th>\n",
       "      <th></th>\n",
       "      <th></th>\n",
       "      <th></th>\n",
       "      <th></th>\n",
       "      <th></th>\n",
       "      <th></th>\n",
       "      <th></th>\n",
       "      <th></th>\n",
       "      <th></th>\n",
       "      <th></th>\n",
       "      <th></th>\n",
       "      <th></th>\n",
       "      <th></th>\n",
       "      <th></th>\n",
       "      <th></th>\n",
       "      <th></th>\n",
       "      <th></th>\n",
       "      <th></th>\n",
       "      <th></th>\n",
       "    </tr>\n",
       "  </thead>\n",
       "  <tbody>\n",
       "    <tr>\n",
       "      <th>Barbi</th>\n",
       "      <td>6</td>\n",
       "      <td>15</td>\n",
       "      <td>119</td>\n",
       "      <td>150</td>\n",
       "      <td>197</td>\n",
       "      <td>254</td>\n",
       "      <td>302</td>\n",
       "      <td>333</td>\n",
       "      <td>388</td>\n",
       "      <td>490</td>\n",
       "      <td>...</td>\n",
       "      <td>2107</td>\n",
       "      <td>2119</td>\n",
       "      <td>2210</td>\n",
       "      <td>2336</td>\n",
       "      <td>2431</td>\n",
       "      <td>2524</td>\n",
       "      <td>2592</td>\n",
       "      <td>2652</td>\n",
       "      <td>2722</td>\n",
       "      <td>2725</td>\n",
       "    </tr>\n",
       "    <tr>\n",
       "      <th>Male D.</th>\n",
       "      <td>10</td>\n",
       "      <td>25</td>\n",
       "      <td>96</td>\n",
       "      <td>106</td>\n",
       "      <td>186</td>\n",
       "      <td>269</td>\n",
       "      <td>359</td>\n",
       "      <td>435</td>\n",
       "      <td>568</td>\n",
       "      <td>716</td>\n",
       "      <td>...</td>\n",
       "      <td>2211</td>\n",
       "      <td>2225</td>\n",
       "      <td>2319</td>\n",
       "      <td>2432</td>\n",
       "      <td>2494</td>\n",
       "      <td>2557</td>\n",
       "      <td>2606</td>\n",
       "      <td>2670</td>\n",
       "      <td>2729</td>\n",
       "      <td>2731</td>\n",
       "    </tr>\n",
       "    <tr>\n",
       "      <th>Male M.</th>\n",
       "      <td>3</td>\n",
       "      <td>14</td>\n",
       "      <td>72</td>\n",
       "      <td>89</td>\n",
       "      <td>145</td>\n",
       "      <td>223</td>\n",
       "      <td>280</td>\n",
       "      <td>319</td>\n",
       "      <td>380</td>\n",
       "      <td>447</td>\n",
       "      <td>...</td>\n",
       "      <td>1760</td>\n",
       "      <td>1764</td>\n",
       "      <td>1814</td>\n",
       "      <td>1828</td>\n",
       "      <td>1846</td>\n",
       "      <td>1865</td>\n",
       "      <td>1877</td>\n",
       "      <td>1883</td>\n",
       "      <td>1919</td>\n",
       "      <td>1919</td>\n",
       "    </tr>\n",
       "    <tr>\n",
       "      <th>Mar</th>\n",
       "      <td>6</td>\n",
       "      <td>18</td>\n",
       "      <td>90</td>\n",
       "      <td>129</td>\n",
       "      <td>188</td>\n",
       "      <td>244</td>\n",
       "      <td>289</td>\n",
       "      <td>336</td>\n",
       "      <td>400</td>\n",
       "      <td>498</td>\n",
       "      <td>...</td>\n",
       "      <td>1696</td>\n",
       "      <td>1701</td>\n",
       "      <td>1793</td>\n",
       "      <td>1886</td>\n",
       "      <td>1922</td>\n",
       "      <td>1979</td>\n",
       "      <td>2044</td>\n",
       "      <td>2073</td>\n",
       "      <td>2110</td>\n",
       "      <td>2110</td>\n",
       "    </tr>\n",
       "    <tr>\n",
       "      <th>Naza</th>\n",
       "      <td>4</td>\n",
       "      <td>8</td>\n",
       "      <td>44</td>\n",
       "      <td>50</td>\n",
       "      <td>53</td>\n",
       "      <td>60</td>\n",
       "      <td>60</td>\n",
       "      <td>60</td>\n",
       "      <td>60</td>\n",
       "      <td>60</td>\n",
       "      <td>...</td>\n",
       "      <td>88</td>\n",
       "      <td>88</td>\n",
       "      <td>90</td>\n",
       "      <td>90</td>\n",
       "      <td>92</td>\n",
       "      <td>92</td>\n",
       "      <td>92</td>\n",
       "      <td>92</td>\n",
       "      <td>92</td>\n",
       "      <td>92</td>\n",
       "    </tr>\n",
       "    <tr>\n",
       "      <th>Nico</th>\n",
       "      <td>2</td>\n",
       "      <td>9</td>\n",
       "      <td>51</td>\n",
       "      <td>82</td>\n",
       "      <td>103</td>\n",
       "      <td>170</td>\n",
       "      <td>214</td>\n",
       "      <td>224</td>\n",
       "      <td>275</td>\n",
       "      <td>334</td>\n",
       "      <td>...</td>\n",
       "      <td>1572</td>\n",
       "      <td>1577</td>\n",
       "      <td>1635</td>\n",
       "      <td>1703</td>\n",
       "      <td>1761</td>\n",
       "      <td>1792</td>\n",
       "      <td>1822</td>\n",
       "      <td>1845</td>\n",
       "      <td>1863</td>\n",
       "      <td>1863</td>\n",
       "    </tr>\n",
       "    <tr>\n",
       "      <th>Santiago</th>\n",
       "      <td>8</td>\n",
       "      <td>15</td>\n",
       "      <td>28</td>\n",
       "      <td>51</td>\n",
       "      <td>85</td>\n",
       "      <td>114</td>\n",
       "      <td>139</td>\n",
       "      <td>143</td>\n",
       "      <td>174</td>\n",
       "      <td>188</td>\n",
       "      <td>...</td>\n",
       "      <td>508</td>\n",
       "      <td>509</td>\n",
       "      <td>547</td>\n",
       "      <td>578</td>\n",
       "      <td>596</td>\n",
       "      <td>620</td>\n",
       "      <td>653</td>\n",
       "      <td>679</td>\n",
       "      <td>723</td>\n",
       "      <td>723</td>\n",
       "    </tr>\n",
       "  </tbody>\n",
       "</table>\n",
       "<p>7 rows × 59 columns</p>\n",
       "</div>"
      ],
      "text/plain": [
       "Month     2017-05  2017-06  2017-08  2017-09  2017-10  2017-11  2017-12  \\\n",
       "Sender                                                                    \n",
       "Barbi           6       15      119      150      197      254      302   \n",
       "Male D.        10       25       96      106      186      269      359   \n",
       "Male M.         3       14       72       89      145      223      280   \n",
       "Mar             6       18       90      129      188      244      289   \n",
       "Naza            4        8       44       50       53       60       60   \n",
       "Nico            2        9       51       82      103      170      214   \n",
       "Santiago        8       15       28       51       85      114      139   \n",
       "\n",
       "Month     2018-01  2018-02  2018-03  ...  2021-07  2021-08  2021-09  2021-10  \\\n",
       "Sender                               ...                                       \n",
       "Barbi         333      388      490  ...     2107     2119     2210     2336   \n",
       "Male D.       435      568      716  ...     2211     2225     2319     2432   \n",
       "Male M.       319      380      447  ...     1760     1764     1814     1828   \n",
       "Mar           336      400      498  ...     1696     1701     1793     1886   \n",
       "Naza           60       60       60  ...       88       88       90       90   \n",
       "Nico          224      275      334  ...     1572     1577     1635     1703   \n",
       "Santiago      143      174      188  ...      508      509      547      578   \n",
       "\n",
       "Month     2021-11  2021-12  2022-01  2022-02  2022-03  2022-04  \n",
       "Sender                                                          \n",
       "Barbi        2431     2524     2592     2652     2722     2725  \n",
       "Male D.      2494     2557     2606     2670     2729     2731  \n",
       "Male M.      1846     1865     1877     1883     1919     1919  \n",
       "Mar          1922     1979     2044     2073     2110     2110  \n",
       "Naza           92       92       92       92       92       92  \n",
       "Nico         1761     1792     1822     1845     1863     1863  \n",
       "Santiago      596      620      653      679      723      723  \n",
       "\n",
       "[7 rows x 59 columns]"
      ]
     },
     "execution_count": 62,
     "metadata": {},
     "output_type": "execute_result"
    }
   ],
   "source": [
    "#Export for bar chart race in flourish to excel\n",
    "pt_senders_month = pd.pivot_table(df, index='Sender', columns='Month', values='Count Message',\n",
    "                                  aggfunc='sum', fill_value = 0 )\n",
    "\n",
    "pt_senders_month = pt_senders_month.cumsum(axis=1) #cumulative\n",
    "pt_senders_month"
   ]
  },
  {
   "cell_type": "code",
   "execution_count": 63,
   "id": "27fb089f",
   "metadata": {},
   "outputs": [],
   "source": [
    "#save it\n",
    "pt_senders_month.to_excel(r'/Users/santiagocodaro/Code/Whatsapp Project/floursih template for linkedin post.xlsx',\n",
    "                        index= True, header=True)"
   ]
  }
 ],
 "metadata": {
  "kernelspec": {
   "display_name": "Python 3 (ipykernel)",
   "language": "python",
   "name": "python3"
  },
  "language_info": {
   "codemirror_mode": {
    "name": "ipython",
    "version": 3
   },
   "file_extension": ".py",
   "mimetype": "text/x-python",
   "name": "python",
   "nbconvert_exporter": "python",
   "pygments_lexer": "ipython3",
   "version": "3.9.7"
  }
 },
 "nbformat": 4,
 "nbformat_minor": 5
}
